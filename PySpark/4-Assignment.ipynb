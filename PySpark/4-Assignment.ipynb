{
 "cells": [
  {
   "cell_type": "markdown",
   "metadata": {},
   "source": [
    "# Spark Preparation\n",
    "We check if we are in Google Colab.  If this is the case, install all necessary packages.\n",
    "\n",
    "To run spark in Colab, we need to first install all the dependencies in Colab environment i.e. Apache Spark 3.2.1 with hadoop 3.2, Java 8 and Findspark to locate the spark in the system. The tools installation can be carried out inside the Jupyter Notebook of the Colab.\n",
    "Learn more from [A Must-Read Guide on How to Work with PySpark on Google Colab for Data Scientists!](https://www.analyticsvidhya.com/blog/2020/11/a-must-read-guide-on-how-to-work-with-pyspark-on-google-colab-for-data-scientists/)"
   ]
  },
  {
   "cell_type": "code",
   "execution_count": 1,
   "metadata": {},
   "outputs": [],
   "source": [
    "try:\n",
    "  import google.colab\n",
    "  IN_COLAB = True\n",
    "except:\n",
    "  IN_COLAB = False"
   ]
  },
  {
   "cell_type": "code",
   "execution_count": 2,
   "metadata": {},
   "outputs": [],
   "source": [
    "if IN_COLAB:\n",
    "    !apt-get install openjdk-8-jdk-headless -qq > /dev/null\n",
    "    !wget -q https://dlcdn.apache.org/spark/spark-3.3.0/spark-3.3.0-bin-hadoop3.tgz\n",
    "    !tar xf spark-3.3.0-bin-hadoop3.tgz\n",
    "    !mv spark-3.3.0-bin-hadoop3 spark\n",
    "    !pip install -q findspark"
   ]
  },
  {
   "cell_type": "code",
   "execution_count": 3,
   "metadata": {},
   "outputs": [],
   "source": [
    "if IN_COLAB:\n",
    "  import os\n",
    "  os.environ[\"JAVA_HOME\"] = \"/usr/lib/jvm/java-8-openjdk-amd64\"\n",
    "  os.environ[\"SPARK_HOME\"] = \"/content/spark\""
   ]
  },
  {
   "cell_type": "markdown",
   "metadata": {},
   "source": [
    "# Start a Local Cluster"
   ]
  },
  {
   "cell_type": "code",
   "execution_count": 4,
   "metadata": {},
   "outputs": [],
   "source": [
    "import findspark\n",
    "findspark.init()"
   ]
  },
  {
   "cell_type": "code",
   "execution_count": 5,
   "metadata": {},
   "outputs": [],
   "source": [
    "spark_url = 'local'"
   ]
  },
  {
   "cell_type": "code",
   "execution_count": 6,
   "metadata": {},
   "outputs": [
    {
     "name": "stderr",
     "output_type": "stream",
     "text": [
      "WARNING: An illegal reflective access operation has occurred\n",
      "WARNING: Illegal reflective access by org.apache.spark.unsafe.Platform (file:/Users/tanutpayatsuporn/opt/anaconda3/lib/python3.9/site-packages/pyspark/jars/spark-unsafe_2.12-3.1.2.jar) to constructor java.nio.DirectByteBuffer(long,int)\n",
      "WARNING: Please consider reporting this to the maintainers of org.apache.spark.unsafe.Platform\n",
      "WARNING: Use --illegal-access=warn to enable warnings of further illegal reflective access operations\n",
      "WARNING: All illegal access operations will be denied in a future release\n",
      "22/11/15 03:05:54 WARN NativeCodeLoader: Unable to load native-hadoop library for your platform... using builtin-java classes where applicable\n",
      "Using Spark's default log4j profile: org/apache/spark/log4j-defaults.properties\n",
      "Setting default log level to \"WARN\".\n",
      "To adjust logging level use sc.setLogLevel(newLevel). For SparkR, use setLogLevel(newLevel).\n",
      "22/11/15 03:05:54 WARN Utils: Service 'SparkUI' could not bind on port 4040. Attempting port 4041.\n"
     ]
    }
   ],
   "source": [
    "from pyspark.sql import SparkSession\n",
    "spark = SparkSession.builder\\\n",
    "        .master(spark_url)\\\n",
    "        .appName('Spark ML')\\\n",
    "        .getOrCreate()"
   ]
  },
  {
   "cell_type": "markdown",
   "metadata": {},
   "source": [
    "# Spark Assignment\n",
    "\n",
    "Based on the movie review dataset in 'netflix-rotten-tomatoes-metacritic-imdb.csv', answer the below questions.\n",
    "\n",
    "**Note:** do not clean or remove missing data"
   ]
  },
  {
   "cell_type": "code",
   "execution_count": 7,
   "metadata": {},
   "outputs": [],
   "source": [
    "path = 'netflix-rotten-tomatoes-metacritic-imdb.csv'"
   ]
  },
  {
   "cell_type": "code",
   "execution_count": 8,
   "metadata": {},
   "outputs": [],
   "source": [
    "df = spark.read.option(\"delimiter\", \",\").option(\"header\", True).csv(path)"
   ]
  },
  {
   "cell_type": "code",
   "execution_count": 9,
   "metadata": {},
   "outputs": [
    {
     "name": "stdout",
     "output_type": "stream",
     "text": [
      "+-------------------+--------------------+--------------------+----------------+---------------+----------------+--------------------+------------+---------------+--------------------+--------------------+-----------+----------+---------------------+----------------+---------------+--------------------+----------+------------+--------------------+--------------------+--------------------+--------------------+--------------------+----------+--------------------+--------------------+--------------------+------------+\n",
      "|              Title|               Genre|                Tags|       Languages|Series or Movie|Hidden Gem Score|Country Availability|     Runtime|       Director|              Writer|              Actors|View Rating|IMDb Score|Rotten Tomatoes Score|Metacritic Score|Awards Received|Awards Nominated For| Boxoffice|Release Date|Netflix Release Date|    Production House|        Netflix Link|           IMDb Link|             Summary|IMDb Votes|               Image|              Poster|        TMDb Trailer|Trailer Site|\n",
      "+-------------------+--------------------+--------------------+----------------+---------------+----------------+--------------------+------------+---------------+--------------------+--------------------+-----------+----------+---------------------+----------------+---------------+--------------------+----------+------------+--------------------+--------------------+--------------------+--------------------+--------------------+----------+--------------------+--------------------+--------------------+------------+\n",
      "|   Lets Fight Ghost|Crime, Drama, Fan...|Comedy Programmes...|Swedish, Spanish|         Series|             4.3|            Thailand|< 30 minutes|Tomas Alfredson|John Ajvide Lindq...|Kåre Hedebrant, P...|          R|       7.9|                 98.0|            82.0|           74.0|                57.0|$2,122,065| 12 Dec 2008|          2021-03-04|Canal+, Sandrew M...|https://www.netfl...|https://www.imdb....|A med student wit...|  205926.0|https://occ-0-470...|https://m.media-a...|                null|        null|\n",
      "|HOW TO BUILD A GIRL|              Comedy|Dramas,Comedies,F...|         English|          Movie|             7.0|              Canada|    1-2 hour|  Coky Giedroyc|       Caitlin Moran|Paddy Considine, ...|          R|       5.8|                 79.0|            69.0|            1.0|                null|   $70,632| 08 May 2020|          2021-03-04|Film 4, Monumenta...|https://www.netfl...|https://www.imdb....|When nerdy Johann...|    2838.0|https://occ-0-108...|https://m.media-a...|https://www.youtu...|     YouTube|\n",
      "|         Centigrade|     Drama, Thriller|           Thrillers|         English|          Movie|             6.4|              Canada|    1-2 hour|  Brendan Walsh|Brendan Walsh, Da...|Genesis Rodriguez...|    Unrated|       4.3|                 null|            46.0|           null|                null|   $16,263| 28 Aug 2020|          2021-03-04|                null|https://www.netfl...|https://www.imdb....|Trapped in a froz...|    1720.0|https://occ-0-108...|https://m.media-a...|https://www.youtu...|     YouTube|\n",
      "|              ANNE+|               Drama|TV Dramas,Romanti...|         Turkish|         Series|             7.7| Belgium,Netherlands|< 30 minutes|           null|                null|Vahide Perçin, Go...|       null|       6.5|                 null|            null|            1.0|                null|      null| 01 Oct 2016|          2021-03-04|                null|https://www.netfl...|https://www.imdb....|Upon moving into ...|    1147.0|https://occ-0-148...|https://m.media-a...|                null|        null|\n",
      "|              Moxie|Animation, Short,...|Social Issue Dram...|         English|          Movie|             8.1|Lithuania,Poland,...|    1-2 hour|  Stephen Irwin|                null|        Ragga Gudrun|       null|       6.3|                 null|            null|           null|                 4.0|      null| 22 Sep 2011|          2021-03-04|                null|https://www.netfl...|https://www.imdb....|Inspired by her m...|      63.0|https://occ-0-403...|https://m.media-a...|                null|        null|\n",
      "+-------------------+--------------------+--------------------+----------------+---------------+----------------+--------------------+------------+---------------+--------------------+--------------------+-----------+----------+---------------------+----------------+---------------+--------------------+----------+------------+--------------------+--------------------+--------------------+--------------------+--------------------+----------+--------------------+--------------------+--------------------+------------+\n",
      "only showing top 5 rows\n",
      "\n"
     ]
    },
    {
     "name": "stderr",
     "output_type": "stream",
     "text": [
      "22/11/15 03:05:57 WARN package: Truncated the string representation of a plan since it was too large. This behavior can be adjusted by setting 'spark.sql.debug.maxToStringFields'.\n"
     ]
    }
   ],
   "source": [
    "df.show(5)"
   ]
  },
  {
   "cell_type": "code",
   "execution_count": 10,
   "metadata": {},
   "outputs": [
    {
     "data": {
      "text/plain": [
       "['Title',\n",
       " 'Genre',\n",
       " 'Tags',\n",
       " 'Languages',\n",
       " 'Series_or_Movie',\n",
       " 'Hidden_Gem_Score',\n",
       " 'Country_Availability',\n",
       " 'Runtime',\n",
       " 'Director',\n",
       " 'Writer',\n",
       " 'Actors',\n",
       " 'View_Rating',\n",
       " 'IMDb_Score',\n",
       " 'Rotten_Tomatoes_Score',\n",
       " 'Metacritic_Score',\n",
       " 'Awards_Received',\n",
       " 'Awards_Nominated_For',\n",
       " 'Boxoffice',\n",
       " 'Release_Date',\n",
       " 'Netflix_Release_Date',\n",
       " 'Production_House',\n",
       " 'Netflix_Link',\n",
       " 'IMDb_Link',\n",
       " 'Summary',\n",
       " 'IMDb_Votes',\n",
       " 'Image',\n",
       " 'Poster',\n",
       " 'TMDb_Trailer',\n",
       " 'Trailer_Site']"
      ]
     },
     "execution_count": 10,
     "metadata": {},
     "output_type": "execute_result"
    }
   ],
   "source": [
    "cols = [c.replace(' ', '_') for c in df.columns]\n",
    "df = df.toDF(*cols)\n",
    "df.columns"
   ]
  },
  {
   "cell_type": "code",
   "execution_count": 11,
   "metadata": {},
   "outputs": [
    {
     "name": "stdout",
     "output_type": "stream",
     "text": [
      "root\n",
      " |-- Title: string (nullable = true)\n",
      " |-- Genre: string (nullable = true)\n",
      " |-- Tags: string (nullable = true)\n",
      " |-- Languages: string (nullable = true)\n",
      " |-- Series_or_Movie: string (nullable = true)\n",
      " |-- Hidden_Gem_Score: string (nullable = true)\n",
      " |-- Country_Availability: string (nullable = true)\n",
      " |-- Runtime: string (nullable = true)\n",
      " |-- Director: string (nullable = true)\n",
      " |-- Writer: string (nullable = true)\n",
      " |-- Actors: string (nullable = true)\n",
      " |-- View_Rating: string (nullable = true)\n",
      " |-- IMDb_Score: string (nullable = true)\n",
      " |-- Rotten_Tomatoes_Score: string (nullable = true)\n",
      " |-- Metacritic_Score: string (nullable = true)\n",
      " |-- Awards_Received: string (nullable = true)\n",
      " |-- Awards_Nominated_For: string (nullable = true)\n",
      " |-- Boxoffice: string (nullable = true)\n",
      " |-- Release_Date: string (nullable = true)\n",
      " |-- Netflix_Release_Date: string (nullable = true)\n",
      " |-- Production_House: string (nullable = true)\n",
      " |-- Netflix_Link: string (nullable = true)\n",
      " |-- IMDb_Link: string (nullable = true)\n",
      " |-- Summary: string (nullable = true)\n",
      " |-- IMDb_Votes: string (nullable = true)\n",
      " |-- Image: string (nullable = true)\n",
      " |-- Poster: string (nullable = true)\n",
      " |-- TMDb_Trailer: string (nullable = true)\n",
      " |-- Trailer_Site: string (nullable = true)\n",
      "\n"
     ]
    }
   ],
   "source": [
    "df.printSchema()"
   ]
  },
  {
   "cell_type": "markdown",
   "metadata": {},
   "source": [
    "## What is the maximum and average of the overall hidden gem score?"
   ]
  },
  {
   "cell_type": "code",
   "execution_count": 12,
   "metadata": {},
   "outputs": [],
   "source": [
    "df = df.withColumn('Hidden_Gem_Score', df.Hidden_Gem_Score.cast('float'))"
   ]
  },
  {
   "cell_type": "code",
   "execution_count": 13,
   "metadata": {},
   "outputs": [],
   "source": [
    "from pyspark.sql.functions import avg, min, max, countDistinct"
   ]
  },
  {
   "cell_type": "code",
   "execution_count": 14,
   "metadata": {},
   "outputs": [
    {
     "name": "stdout",
     "output_type": "stream",
     "text": [
      "+---------------------+---------------------+\n",
      "|max(Hidden_Gem_Score)|avg(Hidden_Gem_Score)|\n",
      "+---------------------+---------------------+\n",
      "|                  9.8|    5.937551392466598|\n",
      "+---------------------+---------------------+\n",
      "\n"
     ]
    }
   ],
   "source": [
    "df.select(max('Hidden_Gem_Score'), avg('Hidden_Gem_Score')).show()"
   ]
  },
  {
   "cell_type": "markdown",
   "metadata": {},
   "source": [
    "## How many movies that are available in Korea?"
   ]
  },
  {
   "cell_type": "code",
   "execution_count": 15,
   "metadata": {},
   "outputs": [
    {
     "name": "stdout",
     "output_type": "stream",
     "text": [
      "+--------------------------+-----+\n",
      "|contains(Languages, Korea)|count|\n",
      "+--------------------------+-----+\n",
      "|                      null| 1935|\n",
      "|                      true|  735|\n",
      "|                     false|12810|\n",
      "+--------------------------+-----+\n",
      "\n"
     ]
    }
   ],
   "source": [
    "df.groupby(df['Languages'].contains('Korea')).count().show()"
   ]
  },
  {
   "cell_type": "markdown",
   "metadata": {},
   "source": [
    "## Which director has the highest average hidden gem score?"
   ]
  },
  {
   "cell_type": "code",
   "execution_count": 16,
   "metadata": {},
   "outputs": [
    {
     "name": "stdout",
     "output_type": "stream",
     "text": [
      "+-----------+----------------+\n",
      "|   Director|Hidden_Gem_Score|\n",
      "+-----------+----------------+\n",
      "|Dorin Marcu|             9.8|\n",
      "+-----------+----------------+\n",
      "\n"
     ]
    }
   ],
   "source": [
    "df.filter(df.Hidden_Gem_Score == '9.8').select('Director', 'Hidden_Gem_Score').show()"
   ]
  },
  {
   "cell_type": "markdown",
   "metadata": {},
   "source": [
    "## How many genres are there in the dataset?"
   ]
  },
  {
   "cell_type": "code",
   "execution_count": 40,
   "metadata": {},
   "outputs": [
    {
     "name": "stdout",
     "output_type": "stream",
     "text": [
      "+-----------+-----+\n",
      "|      Genre|count|\n",
      "+-----------+-----+\n",
      "|      Crime| 1932|\n",
      "|    Romance| 2445|\n",
      "|   Thriller| 2739|\n",
      "|  Adventure| 1809|\n",
      "|      Drama| 6359|\n",
      "|        War|  330|\n",
      "|Documentary| 1030|\n",
      "| Reality-TV|  191|\n",
      "|     Family| 1433|\n",
      "|    Fantasy| 1594|\n",
      "|  Game-Show|   52|\n",
      "|      Adult|   15|\n",
      "|    History|  527|\n",
      "|    Mystery| 1190|\n",
      "|    Musical|  228|\n",
      "|  Animation| 1665|\n",
      "|      Music|  426|\n",
      "|  Film-Noir|    2|\n",
      "|     Horror| 1070|\n",
      "|      Short|  422|\n",
      "|    Western|  109|\n",
      "|  Biography|  636|\n",
      "|     Comedy| 5077|\n",
      "|     Action| 2810|\n",
      "|      Sport|  367|\n",
      "|  Talk-Show|   26|\n",
      "|     Sci-Fi| 1204|\n",
      "|       News|   20|\n",
      "+-----------+-----+\n",
      "\n"
     ]
    }
   ],
   "source": [
    "from pyspark.sql.functions import split, explode, col\n",
    "df.withColumn(\"Genre\", explode(split(col(\"Genre\"), \", \"))).groupBy(\"Genre\").count().show(28)"
   ]
  },
  {
   "cell_type": "code",
   "execution_count": null,
   "metadata": {},
   "outputs": [],
   "source": []
  }
 ],
 "metadata": {
  "kernelspec": {
   "display_name": "Python 3 (ipykernel)",
   "language": "python",
   "name": "python3"
  },
  "language_info": {
   "codemirror_mode": {
    "name": "ipython",
    "version": 3
   },
   "file_extension": ".py",
   "mimetype": "text/x-python",
   "name": "python",
   "nbconvert_exporter": "python",
   "pygments_lexer": "ipython3",
   "version": "3.9.12"
  },
  "toc": {
   "base_numbering": 1,
   "nav_menu": {},
   "number_sections": true,
   "sideBar": true,
   "skip_h1_title": false,
   "title_cell": "Table of Contents",
   "title_sidebar": "Contents",
   "toc_cell": false,
   "toc_position": {},
   "toc_section_display": true,
   "toc_window_display": false
  },
  "varInspector": {
   "cols": {
    "lenName": 16,
    "lenType": 16,
    "lenVar": 40
   },
   "kernels_config": {
    "python": {
     "delete_cmd_postfix": "",
     "delete_cmd_prefix": "del ",
     "library": "var_list.py",
     "varRefreshCmd": "print(var_dic_list())"
    },
    "r": {
     "delete_cmd_postfix": ") ",
     "delete_cmd_prefix": "rm(",
     "library": "var_list.r",
     "varRefreshCmd": "cat(var_dic_list()) "
    }
   },
   "types_to_exclude": [
    "module",
    "function",
    "builtin_function_or_method",
    "instance",
    "_Feature"
   ],
   "window_display": false
  }
 },
 "nbformat": 4,
 "nbformat_minor": 4
}
