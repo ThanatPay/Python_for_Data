{
 "cells": [
  {
   "cell_type": "markdown",
   "metadata": {
    "id": "RBpnivhQJqLK"
   },
   "source": [
    "#![Spark Logo](http://spark-mooc.github.io/web-assets/images/ta_Spark-logo-small.png) + ![Python Logo](http://spark-mooc.github.io/web-assets/images/python-logo-master-v3-TM-flattened_small.png)\n",
    "# **First Notebook: Virtual machine test and assignment submission**\n",
    "#### This notebook will test that the virtual machine (VM) is functioning properly and will show you how to submit an assignment to the autograder.  To move through the notebook just run each of the cells.  You will not need to solve any problems to complete this lab.  You can run a cell by pressing \"shift-enter\", which will compute the current cell and advance to the next cell, or by clicking in a cell and pressing \"control-enter\", which will compute the current cell and remain in that cell.  At the end of the notebook you will export / download the notebook and submit it to the autograder.\n",
    "#### ** This notebook covers: **\n",
    "#### *Part 1:* Test Spark functionality\n",
    "#### *Part 2:* Check class testing library\n",
    "#### *Part 3:* Check plotting\n",
    "#### *Part 4:* Check MathJax formulas\n",
    "#### *Part 5:* Export / download and submit"
   ]
  },
  {
   "cell_type": "code",
   "execution_count": null,
   "metadata": {
    "colab": {
     "base_uri": "https://localhost:8080/"
    },
    "id": "0gozMbvsNUIe",
    "outputId": "01c90644-b7ae-47cd-e9d0-535d88b1e21d"
   },
   "outputs": [
    {
     "name": "stdout",
     "output_type": "stream",
     "text": [
      "Mounted at /content/drive\n"
     ]
    }
   ],
   "source": [
    "# If you compile on VM, this section isn/t necessary\n",
    "from google.colab import drive\n",
    "drive.mount('/content/drive')"
   ]
  },
  {
   "cell_type": "markdown",
   "metadata": {
    "id": "aFvb2XkjKmBt"
   },
   "source": [
    "### **Part 0: Library installation manually"
   ]
  },
  {
   "cell_type": "code",
   "execution_count": null,
   "metadata": {
    "colab": {
     "base_uri": "https://localhost:8080/"
    },
    "id": "q8TieTumDq9-",
    "outputId": "bbe184bf-60b9-4aa3-9227-be413265500d"
   },
   "outputs": [
    {
     "name": "stdout",
     "output_type": "stream",
     "text": [
      "Get:1 https://cloud.r-project.org/bin/linux/ubuntu focal-cran40/ InRelease [3,622 B]\n",
      "Ign:2 https://developer.download.nvidia.com/compute/machine-learning/repos/ubuntu2004/x86_64  InRelease\n",
      "Hit:3 https://developer.download.nvidia.com/compute/cuda/repos/ubuntu2004/x86_64  InRelease\n",
      "Hit:4 https://developer.download.nvidia.com/compute/machine-learning/repos/ubuntu2004/x86_64  Release\n",
      "Get:5 http://ppa.launchpad.net/c2d4u.team/c2d4u4.0+/ubuntu focal InRelease [18.1 kB]\n",
      "Hit:6 http://archive.ubuntu.com/ubuntu focal InRelease\n",
      "Get:7 http://security.ubuntu.com/ubuntu focal-security InRelease [114 kB]\n",
      "Get:8 http://archive.ubuntu.com/ubuntu focal-updates InRelease [114 kB]\n",
      "Hit:9 http://ppa.launchpad.net/cran/libgit2/ubuntu focal InRelease\n",
      "Get:11 http://ppa.launchpad.net/deadsnakes/ppa/ubuntu focal InRelease [18.1 kB]\n",
      "Get:12 http://archive.ubuntu.com/ubuntu focal-backports InRelease [108 kB]\n",
      "Hit:13 http://ppa.launchpad.net/graphics-drivers/ppa/ubuntu focal InRelease\n",
      "Get:14 http://ppa.launchpad.net/c2d4u.team/c2d4u4.0+/ubuntu focal/main Sources [2,374 kB]\n",
      "Get:15 http://security.ubuntu.com/ubuntu focal-security/restricted amd64 Packages [1,864 kB]\n",
      "Get:16 http://archive.ubuntu.com/ubuntu focal-updates/restricted amd64 Packages [1,989 kB]\n",
      "Get:17 http://security.ubuntu.com/ubuntu focal-security/main amd64 Packages [2,425 kB]\n",
      "Get:18 http://security.ubuntu.com/ubuntu focal-security/universe amd64 Packages [980 kB]\n",
      "Get:19 http://archive.ubuntu.com/ubuntu focal-updates/universe amd64 Packages [1,281 kB]\n",
      "Get:20 http://ppa.launchpad.net/c2d4u.team/c2d4u4.0+/ubuntu focal/main amd64 Packages [1,125 kB]\n",
      "Get:21 http://archive.ubuntu.com/ubuntu focal-updates/main amd64 Packages [2,899 kB]\n",
      "Get:22 http://ppa.launchpad.net/deadsnakes/ppa/ubuntu focal/main amd64 Packages [29.5 kB]\n",
      "Fetched 15.3 MB in 7s (2,210 kB/s)\n",
      "Reading package lists... Done\n",
      "Building dependency tree       \n",
      "Reading state information... Done\n",
      "30 packages can be upgraded. Run 'apt list --upgradable' to see them.\n",
      "\u001b[2K     \u001b[90m━━━━━━━━━━━━━━━━━━━━━━━━━━━━━━━━━━━━━━━\u001b[0m \u001b[32m281.4/281.4 MB\u001b[0m \u001b[31m4.2 MB/s\u001b[0m eta \u001b[36m0:00:00\u001b[0m\n",
      "\u001b[?25h  Preparing metadata (setup.py) ... \u001b[?25l\u001b[?25hdone\n",
      "\u001b[2K     \u001b[90m━━━━━━━━━━━━━━━━━━━━━━━━━━━━━━━━━━━━━━\u001b[0m \u001b[32m199.7/199.7 KB\u001b[0m \u001b[31m16.2 MB/s\u001b[0m eta \u001b[36m0:00:00\u001b[0m\n",
      "\u001b[?25h  Building wheel for pyspark (setup.py) ... \u001b[?25l\u001b[?25hdone\n"
     ]
    }
   ],
   "source": [
    "# check for upgradable packages\n",
    "!apt update\n",
    "\n",
    "# install java\n",
    "!apt-get install openjdk-11-jdk-headless -qq > /dev/null\n",
    "\n",
    "# install Spark\n",
    "!wget -q https://dlcdn.apache.org/spark/spark-3.3.1/spark-3.3.1-bin-hadoop3.tgz\n",
    "\n",
    "# unzip the spark file to the current folder\n",
    "!tar xf spark-3.3.1-bin-hadoop3.tgz\n",
    "\n",
    "# to remove Spark.tgz file\n",
    "!rm -rf spark-3.3.1-bin-hadoop3.tgz\n",
    "\n",
    "# install findspark using pip\n",
    "!pip install -q findspark\n",
    "!pip install -q pyspark"
   ]
  },
  {
   "cell_type": "code",
   "execution_count": null,
   "metadata": {
    "id": "yoUaskyFFZjJ"
   },
   "outputs": [],
   "source": [
    "# set your spark folder to your system path environment. \n",
    "import os\n",
    "os.environ[\"JAVA_HOME\"] = \"/usr/lib/jvm/java-11-openjdk-amd64\"\n",
    "os.environ[\"SPARK_HOME\"] = \"/content/spark-3.3.1-bin-hadoop3\""
   ]
  },
  {
   "cell_type": "code",
   "execution_count": null,
   "metadata": {
    "colab": {
     "base_uri": "https://localhost:8080/",
     "height": 196
    },
    "id": "ZMl5BjDbFeOS",
    "outputId": "477f99ee-0706-46e1-eadc-a60e0420628a"
   },
   "outputs": [
    {
     "data": {
      "text/html": [
       "\n",
       "        <div>\n",
       "            <p><b>SparkContext</b></p>\n",
       "\n",
       "            <p><a href=\"http://9dd2bf163d3b:4040\">Spark UI</a></p>\n",
       "\n",
       "            <dl>\n",
       "              <dt>Version</dt>\n",
       "                <dd><code>v3.3.1</code></dd>\n",
       "              <dt>Master</dt>\n",
       "                <dd><code>local[*]</code></dd>\n",
       "              <dt>AppName</dt>\n",
       "                <dd><code>pyspark-shell</code></dd>\n",
       "            </dl>\n",
       "        </div>\n",
       "        "
      ],
      "text/plain": [
       "<SparkContext master=local[*] appName=pyspark-shell>"
      ]
     },
     "execution_count": 4,
     "metadata": {},
     "output_type": "execute_result"
    }
   ],
   "source": [
    "# create SparkContext\n",
    "from pyspark import SparkContext\n",
    "import findspark\n",
    "\n",
    "findspark.init()\n",
    "sc = SparkContext.getOrCreate()\n",
    "sc"
   ]
  },
  {
   "cell_type": "code",
   "execution_count": null,
   "metadata": {
    "colab": {
     "base_uri": "https://localhost:8080/"
    },
    "id": "3QeyV00pxw0B",
    "outputId": "cda1b4ff-623f-4ad1-b9c0-1ea2b21a9c5a"
   },
   "outputs": [
    {
     "name": "stdout",
     "output_type": "stream",
     "text": [
      "/content/drive/MyDrive/BigDataAnal/Assignment1/test_helper_master/test_helper\n",
      "/content\n"
     ]
    }
   ],
   "source": [
    "# import lib tools\n",
    "import numpy as np\n",
    "import pandas as pd\n",
    "\n",
    "# I used my own develped test_helper.py library instead of pip install test_helper\n",
    "# To use my test_helper.py, lib needs to be import manually\n",
    "# <YOUR DIR>/test_helper is required\n",
    "libDir = '/content/drive/MyDrive/PySpark/test_helper_master/test_helper'\n",
    "%cd $libDir\n",
    "\n",
    "# Import test_helper.py from current dir\n",
    "import test_helper\n",
    "\n",
    "# move back to work_dir\n",
    "# if you work on VM, it is optional\n",
    "# if you work on co-lab, I do suggest to move back to this dir\n",
    "%cd '/content/'"
   ]
  },
  {
   "cell_type": "markdown",
   "metadata": {
    "id": "XatRRfjMJqLN"
   },
   "source": [
    "### ** Part 1: Test Spark functionality **"
   ]
  },
  {
   "cell_type": "markdown",
   "metadata": {
    "id": "fw69-RotJqLN"
   },
   "source": [
    "#### ** (1a) Parallelize, filter, and reduce **"
   ]
  },
  {
   "cell_type": "code",
   "execution_count": null,
   "metadata": {
    "colab": {
     "base_uri": "https://localhost:8080/"
    },
    "id": "yLzLeiOIJqLO",
    "outputId": "5ddd64f4-372a-4ae0-939b-04aef24199cf"
   },
   "outputs": [
    {
     "name": "stdout",
     "output_type": "stream",
     "text": [
      "4999950000\n",
      "714264285\n"
     ]
    }
   ],
   "source": [
    "# Check that Spark is working\n",
    "largeRange = sc.parallelize(range(100000))\n",
    "reduceTest = largeRange.reduce(lambda a, b: a + b)\n",
    "filterReduceTest = largeRange.filter(lambda x: x % 7 == 0).sum()\n",
    "\n",
    "print(reduceTest)\n",
    "print(filterReduceTest)\n",
    "\n",
    "# If the Spark jobs don't work properly these will raise an AssertionError\n",
    "assert reduceTest == 4999950000\n",
    "assert filterReduceTest == 714264285"
   ]
  },
  {
   "cell_type": "markdown",
   "metadata": {
    "id": "0py0GxwuJqLP"
   },
   "source": [
    "#### ** (1b) Loading a text file **"
   ]
  },
  {
   "cell_type": "code",
   "execution_count": null,
   "metadata": {
    "id": "hc0CCEfXqdKG"
   },
   "outputs": [],
   "source": [
    "# set data path\n",
    "storeDir = \"/content/drive/MyDrive/PySpark\""
   ]
  },
  {
   "cell_type": "code",
   "execution_count": null,
   "metadata": {
    "colab": {
     "base_uri": "https://localhost:8080/"
    },
    "id": "A71qhGQJJqLP",
    "outputId": "527145e5-732e-4ecb-cdd3-7343197cddac"
   },
   "outputs": [
    {
     "name": "stdout",
     "output_type": "stream",
     "text": [
      "122395\n"
     ]
    }
   ],
   "source": [
    "# Check loading data with sc.textFile\n",
    "import os.path\n",
    "\n",
    "baseDir = os.path.join('data')\n",
    "inputPath = os.path.join('cs100', 'lab1', 'shakespeare.txt')\n",
    "fileName = os.path.join(storeDir, baseDir, inputPath)\n",
    "\n",
    "rawData = sc.textFile(fileName)\n",
    "\n",
    "# Due to lazy computing, caching is necessary to reduce read time from disk to RAM\n",
    "rawData.cache()\n",
    "\n",
    "shakespeareCount = rawData.count()\n",
    "\n",
    "print(shakespeareCount)\n",
    "\n",
    "# If the text file didn't load properly an AssertionError will be raised\n",
    "assert shakespeareCount == 122395"
   ]
  },
  {
   "cell_type": "markdown",
   "metadata": {
    "id": "f-9h81O4JqLQ"
   },
   "source": [
    "### ** Part 2: Check class testing library **"
   ]
  },
  {
   "cell_type": "markdown",
   "metadata": {
    "id": "fBVdfzY9JqLQ"
   },
   "source": [
    "#### ** (2a) Compare with hash **"
   ]
  },
  {
   "cell_type": "code",
   "execution_count": null,
   "metadata": {
    "colab": {
     "base_uri": "https://localhost:8080/"
    },
    "id": "IPQmoSiVJqLR",
    "outputId": "d582c33b-1ba6-475d-e89d-c76478dc2aa9"
   },
   "outputs": [
    {
     "name": "stdout",
     "output_type": "stream",
     "text": [
      "1 test passed. \n",
      "1 test passed. \n"
     ]
    }
   ],
   "source": [
    "# TEST Compare with hash (2a)\n",
    "# Check our testing library/package\n",
    "# This should print '1 test passed.' on two lines\n",
    "from test_helper import Test\n",
    "\n",
    "twelve = 12\n",
    "Test.assertEquals(twelve, 12, 'twelve should equal 12')\n",
    "Test.assertEqualsHashed(twelve, '7b52009b64fd0a2a49e6d8a939753077792b0554',\n",
    "                        'twelve, once hashed, should equal the hashed value of 12')"
   ]
  },
  {
   "cell_type": "markdown",
   "metadata": {
    "id": "kFv2HyFrJqLR"
   },
   "source": [
    "#### ** (2b) Compare lists **"
   ]
  },
  {
   "cell_type": "code",
   "execution_count": null,
   "metadata": {
    "colab": {
     "base_uri": "https://localhost:8080/"
    },
    "id": "uKtBqr2vJqLR",
    "outputId": "1b5b3ae7-6d01-41fe-a929-bb0c9d864c35"
   },
   "outputs": [
    {
     "name": "stdout",
     "output_type": "stream",
     "text": [
      "1 test passed. \n"
     ]
    }
   ],
   "source": [
    "# TEST Compare lists (2b)\n",
    "# This should print '1 test passed.'\n",
    "unsortedList = [(5, 'b'), (5, 'a'), (4, 'c'), (3, 'a')]\n",
    "Test.assertEquals(sorted(unsortedList), [(3, 'a'), (4, 'c'), (5, 'a'), (5, 'b')],\n",
    "                  \"unsortedList does not sort properly\")"
   ]
  },
  {
   "cell_type": "markdown",
   "metadata": {
    "id": "_ob1DpQ8JqLS"
   },
   "source": [
    "### ** Part 3: Check plotting **"
   ]
  },
  {
   "cell_type": "markdown",
   "metadata": {
    "id": "FmNSvvFwJqLS"
   },
   "source": [
    "#### ** (3a) Our first plot **\n",
    "#### After executing the code cell below, you should see a plot with 50 blue circles.  The circles should start at the bottom left and end at the top right."
   ]
  },
  {
   "cell_type": "code",
   "execution_count": null,
   "metadata": {
    "colab": {
     "base_uri": "https://localhost:8080/",
     "height": 392
    },
    "id": "rEIBRbuTJqLS",
    "outputId": "8821f151-a3a3-44fb-da0c-5d5d39502a47"
   },
   "outputs": [
    {
     "data": {
      "image/png": "[encoded data removed]",
      "text/plain": [
       "<Figure size 756x432 with 1 Axes>"
      ]
     },
     "metadata": {},
     "output_type": "display_data"
    }
   ],
   "source": [
    "# Check matplotlib plotting\n",
    "import matplotlib.pyplot as plt\n",
    "import matplotlib.cm as cm\n",
    "from math import log\n",
    "\n",
    "# function for generating plot layout\n",
    "def preparePlot(xticks, yticks, figsize=(10.5, 6), hideLabels=False, gridColor='#999999', gridWidth=1.0):\n",
    "    plt.close()\n",
    "    fig, ax = plt.subplots(figsize=figsize, facecolor='white', edgecolor='white')\n",
    "    ax.axes.tick_params(labelcolor='#999999', labelsize='10')\n",
    "    for axis, ticks in [(ax.get_xaxis(), xticks), (ax.get_yaxis(), yticks)]:\n",
    "        axis.set_ticks_position('none')\n",
    "        axis.set_ticks(ticks)\n",
    "        axis.label.set_color('#999999')\n",
    "        if hideLabels: axis.set_ticklabels([])\n",
    "    plt.grid(color=gridColor, linewidth=gridWidth, linestyle='-')\n",
    "    map(lambda position: ax.spines[position].set_visible(False), ['bottom', 'top', 'left', 'right'])\n",
    "    return fig, ax\n",
    "\n",
    "# generate layout and plot data\n",
    "x = range(1, 50)\n",
    "y = [log(x1 ** 2) for x1 in x]\n",
    "fig, ax = preparePlot(range(5, 60, 10), range(0, 12, 1))\n",
    "plt.scatter(x, y, s=14**2, c='#d6ebf2', edgecolors='#8cbfd0', alpha=0.75)\n",
    "ax.set_xlabel(r'$range(1, 50)$'), ax.set_ylabel(r'$\\log_e(x^2)$')\n",
    "pass"
   ]
  },
  {
   "cell_type": "markdown",
   "metadata": {
    "id": "BIahUSQjJqLT"
   },
   "source": [
    "### ** Part 4: Check MathJax Formulas **"
   ]
  },
  {
   "cell_type": "markdown",
   "metadata": {
    "id": "80G-e_ITJqLT"
   },
   "source": [
    "#### ** (4a) Gradient descent formula **\n",
    "#### You should see a formula on the line below this one: $$ \\scriptsize \\mathbf{w}_{i+1} = \\mathbf{w}_i - \\alpha_i \\sum_j (\\mathbf{w}_i^\\top\\mathbf{x}_j  - y_j) \\mathbf{x}_j \\,.$$\n",
    " \n",
    "#### This formula is included inline with the text and is $ \\scriptsize (\\mathbf{w}^\\top \\mathbf{x} - y) \\mathbf{x} $."
   ]
  },
  {
   "cell_type": "markdown",
   "metadata": {
    "id": "3vZ4M9yDJqLU"
   },
   "source": [
    "#### ** (4b) Log loss formula **\n",
    "#### This formula shows log loss for single point. Log loss is defined as: $$  \\begin{align} \\scriptsize \\ell_{log}(p, y) = \\begin{cases} -\\log (p) & \\text{if } y = 1 \\\\\\ -\\log(1-p) & \\text{if } y = 0 \\end{cases} \\end{align} $$"
   ]
  },
  {
   "cell_type": "markdown",
   "metadata": {
    "id": "N_Eta1oaJqLU"
   },
   "source": [
    "### ** Part 5: Export / download and submit **"
   ]
  },
  {
   "cell_type": "markdown",
   "metadata": {
    "id": "DQEFzZYKJqLU"
   },
   "source": [
    "#### ** (5a) Time to submit **"
   ]
  },
  {
   "cell_type": "markdown",
   "metadata": {
    "id": "uMG_8UxAJqLV"
   },
   "source": [
    "#### You have completed the lab.  To submit the lab for grading you will need to download it from your IPython Notebook environment.  You can do this by clicking on \"File\", then hovering your mouse over \"Download as\", and then clicking on \"Python (.py)\".  This will export your IPython Notebook as a .py file to your computer.\n",
    "#### To upload this file to the course autograder, go to the edX website and find the page for submitting this assignment.  Click \"Choose file\", then navigate to and click on the downloaded .py file.  Now click the \"Open\" button and then the \"Check\" button.  Your submission will be graded shortly and will be available on the page where you submitted.  Note that when submission volumes are high, it may take as long as an hour to receive results."
   ]
  }
 ],
 "metadata": {
  "colab": {
   "provenance": []
  },
  "kernelspec": {
   "display_name": "Python 3 (ipykernel)",
   "language": "python",
   "name": "python3"
  },
  "language_info": {
   "codemirror_mode": {
    "name": "ipython",
    "version": 3
   },
   "file_extension": ".py",
   "mimetype": "text/x-python",
   "name": "python",
   "nbconvert_exporter": "python",
   "pygments_lexer": "ipython3",
   "version": "3.9.12"
  }
 },
 "nbformat": 4,
 "nbformat_minor": 1
}
